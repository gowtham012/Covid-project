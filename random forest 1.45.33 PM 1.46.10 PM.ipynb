{
 "cells": [
  {
   "cell_type": "code",
   "execution_count": 1,
   "id": "30fce7af",
   "metadata": {},
   "outputs": [],
   "source": [
    "import os\n",
    "import matplotlib.pyplot as plt\n",
    "import cv2\n",
    "import numpy as np\n",
    "import random\n",
    "import pickle\n",
    "\n",
    "from sklearn.model_selection import train_test_split\n",
    "from sklearn.ensemble import RandomForestClassifier\n",
    "from sklearn.svm import SVC"
   ]
  },
  {
   "cell_type": "code",
   "execution_count": 2,
   "id": "074e1b4c",
   "metadata": {},
   "outputs": [],
   "source": [
    "dir = r'Y:/2021/BUSINESS PROJECTS/COVID-19/VGG_with_XGBoost/dataset/train'"
   ]
  },
  {
   "cell_type": "code",
   "execution_count": 3,
   "id": "420c4ae5",
   "metadata": {},
   "outputs": [],
   "source": [
    "categories= ['COVID NEGATIVE', 'COVID POSITIVE']\n",
    "global data\n",
    "data = []\n",
    "for category in categories:\n",
    "    path= os.path.join(dir,category)\n",
    "    label= categories.index(category)\n",
    "\n",
    "    for img in os.listdir(path):\n",
    "        imgpath = os.path.join(path, img)\n",
    "        try:\n",
    "            pet_img=cv2.imread(imgpath,0)\n",
    "            cv2.resize(pet_img,(50,50))\n",
    "            image=np.array(pet_img).flatten()\n",
    "\n",
    "            data.append([image,label])\n",
    "        except Exception as e:\n",
    "            pass"
   ]
  },
  {
   "cell_type": "code",
   "execution_count": 4,
   "id": "2d5f6d83",
   "metadata": {},
   "outputs": [],
   "source": [
    "pick_in = open('data1.pickle','wb')\n",
    "pickle.dump(data,pick_in)\n",
    "pick_in.close()\n",
    "# cv2.waitKey(0)\n",
    "# cv2.destroyAllWindows()\n",
    "\n",
    "pick_in = open('data1.pickle','rb')\n",
    "data = pickle.load(pick_in)\n",
    "pick_in.close()"
   ]
  },
  {
   "cell_type": "code",
   "execution_count": 5,
   "id": "d3e177ee",
   "metadata": {},
   "outputs": [],
   "source": [
    "random.shuffle(data)\n",
    "features = []\n",
    "labels = []\n",
    "\n",
    "for feature , label in data:\n",
    "    features.append(feature)\n",
    "    labels.append(label)\n",
    "\n"
   ]
  },
  {
   "cell_type": "code",
   "execution_count": 6,
   "id": "ab0a34c1",
   "metadata": {},
   "outputs": [],
   "source": [
    "model = RandomForestClassifier()"
   ]
  },
  {
   "cell_type": "code",
   "execution_count": 7,
   "id": "7fc1fe3d",
   "metadata": {},
   "outputs": [],
   "source": [
    "from tensorflow.keras.preprocessing.sequence import pad_sequences"
   ]
  },
  {
   "cell_type": "code",
   "execution_count": 8,
   "id": "5035caed",
   "metadata": {},
   "outputs": [],
   "source": [
    "features = pad_sequences(features,padding = 'pre')"
   ]
  },
  {
   "cell_type": "code",
   "execution_count": 9,
   "id": "c2840640",
   "metadata": {},
   "outputs": [
    {
     "data": {
      "text/plain": [
       "array([[  0,   0,   0, ..., 229, 232, 233],\n",
       "       [  0,   0,   0, ...,  68,  68, 255],\n",
       "       [  0,   0,   0, ...,  64,  64,  64],\n",
       "       ...,\n",
       "       [  0,   0,   0, ..., 237, 240, 243],\n",
       "       [  0,   0,   0, ...,  60,  61,  64],\n",
       "       [  0,   0,   0, ..., 230, 235, 238]])"
      ]
     },
     "execution_count": 9,
     "metadata": {},
     "output_type": "execute_result"
    }
   ],
   "source": [
    "features"
   ]
  },
  {
   "cell_type": "code",
   "execution_count": 10,
   "id": "c8952c2f",
   "metadata": {},
   "outputs": [
    {
     "data": {
      "text/plain": [
       "201344"
      ]
     },
     "execution_count": 10,
     "metadata": {},
     "output_type": "execute_result"
    }
   ],
   "source": [
    "len(features[0])"
   ]
  },
  {
   "cell_type": "code",
   "execution_count": 11,
   "id": "12111ebd",
   "metadata": {},
   "outputs": [
    {
     "data": {
      "text/plain": [
       "201344"
      ]
     },
     "execution_count": 11,
     "metadata": {},
     "output_type": "execute_result"
    }
   ],
   "source": [
    "len(features[1])"
   ]
  },
  {
   "cell_type": "code",
   "execution_count": 12,
   "id": "8308827f",
   "metadata": {},
   "outputs": [
    {
     "data": {
      "text/plain": [
       "4000"
      ]
     },
     "execution_count": 12,
     "metadata": {},
     "output_type": "execute_result"
    }
   ],
   "source": [
    "len(features)"
   ]
  },
  {
   "cell_type": "code",
   "execution_count": 13,
   "id": "8c2d8a8f",
   "metadata": {},
   "outputs": [],
   "source": [
    "xtrain, xtest, ytrain, ytest = train_test_split(features, labels, test_size= 0.25)"
   ]
  },
  {
   "cell_type": "code",
   "execution_count": 14,
   "id": "73589b8f",
   "metadata": {},
   "outputs": [
    {
     "data": {
      "text/plain": [
       "RandomForestClassifier()"
      ]
     },
     "execution_count": 14,
     "metadata": {},
     "output_type": "execute_result"
    }
   ],
   "source": [
    "model.fit(xtrain,ytrain)"
   ]
  },
  {
   "cell_type": "code",
   "execution_count": 51,
   "id": "017879b8",
   "metadata": {},
   "outputs": [],
   "source": [
    "predictions = model.predict(xtest)"
   ]
  },
  {
   "cell_type": "code",
   "execution_count": 52,
   "id": "f9a521cf",
   "metadata": {},
   "outputs": [],
   "source": [
    "# predictions"
   ]
  },
  {
   "cell_type": "code",
   "execution_count": 53,
   "id": "3a3e6e39",
   "metadata": {},
   "outputs": [],
   "source": [
    "accuracy = model.score(xtest,ytest)"
   ]
  },
  {
   "cell_type": "code",
   "execution_count": 54,
   "id": "ba0d36cc",
   "metadata": {},
   "outputs": [
    {
     "name": "stdout",
     "output_type": "stream",
     "text": [
      "0.952\n"
     ]
    }
   ],
   "source": [
    "print(accuracy)"
   ]
  },
  {
   "cell_type": "code",
   "execution_count": 19,
   "id": "63420587",
   "metadata": {},
   "outputs": [
    {
     "name": "stdout",
     "output_type": "stream",
     "text": [
      "COVID POSITIVE\n",
      "COVID POSITIVE\n",
      "COVID NEGATIVE\n",
      "COVID POSITIVE\n"
     ]
    }
   ],
   "source": [
    "# for i in range(4):\n",
    "#     a = categories[predictions[i]]\n",
    "#     print(a)"
   ]
  },
  {
   "cell_type": "code",
   "execution_count": 55,
   "id": "08b0ecaf",
   "metadata": {},
   "outputs": [],
   "source": [
    "mypet=xtest[0]\n"
   ]
  },
  {
   "cell_type": "code",
   "execution_count": 56,
   "id": "78ec80a3",
   "metadata": {},
   "outputs": [],
   "source": [
    "import glob"
   ]
  },
  {
   "cell_type": "code",
   "execution_count": 57,
   "id": "1996558b",
   "metadata": {},
   "outputs": [],
   "source": [
    "SIZE = 256"
   ]
  },
  {
   "cell_type": "code",
   "execution_count": 58,
   "id": "ffab2869",
   "metadata": {},
   "outputs": [],
   "source": [
    "test_images=[]\n",
    "test_labels=[]\n",
    "for directory_path in glob.glob(\"Y:/2021/BUSINESS PROJECTS/COVID-19/VGG_with_XGBoost/dataset/test/*\"):\n",
    "    fruit_label=directory_path.split(\"\\\\\")[-1]\n",
    "    for img_path in glob.glob(os.path.join(directory_path, \"*.png\")):\n",
    "        img = cv2.imread(img_path, cv2.IMREAD_COLOR)\n",
    "        img = cv2.resize(img, (SIZE, SIZE))\n",
    "        img = cv2.cvtColor(img, cv2.COLOR_RGB2BGR)\n",
    "        test_images.append(img)\n",
    "        test_labels.append(fruit_label)\n",
    "test_images=np.array(test_images)\n",
    "test_labels=np.array(test_labels)"
   ]
  },
  {
   "cell_type": "code",
   "execution_count": 61,
   "id": "61df9270",
   "metadata": {},
   "outputs": [],
   "source": [
    "categories=['COVID NEGATIVE','COVID POSITIVE']"
   ]
  },
  {
   "cell_type": "code",
   "execution_count": 99,
   "id": "86e30961",
   "metadata": {},
   "outputs": [],
   "source": [
    "n=np.random.randint(0,xtest.shape[0])"
   ]
  },
  {
   "cell_type": "code",
   "execution_count": 100,
   "id": "3e220e1d",
   "metadata": {},
   "outputs": [
    {
     "name": "stdout",
     "output_type": "stream",
     "text": [
      "Accuracy:  0.952\n",
      "actual image is:  COVID NEGATIVE\n",
      "predicted image is:  COVID POSITIVE\n"
     ]
    }
   ],
   "source": [
    "print('Accuracy: ', accuracy)\n",
    "print(\"actual image is: \", test_labels[n])\n",
    "print(\"predicted image is: \", categories[predictions[n]])"
   ]
  },
  {
   "cell_type": "code",
   "execution_count": 22,
   "id": "8bebcb4d",
   "metadata": {},
   "outputs": [],
   "source": [
    "# svc.fit(xtrain,ytrain)"
   ]
  },
  {
   "cell_type": "code",
   "execution_count": null,
   "id": "0d4ebbf8",
   "metadata": {},
   "outputs": [],
   "source": []
  }
 ],
 "metadata": {
  "kernelspec": {
   "display_name": "Python 3 (ipykernel)",
   "language": "python",
   "name": "python3"
  },
  "language_info": {
   "codemirror_mode": {
    "name": "ipython",
    "version": 3
   },
   "file_extension": ".py",
   "mimetype": "text/x-python",
   "name": "python",
   "nbconvert_exporter": "python",
   "pygments_lexer": "ipython3",
   "version": "3.9.7"
  }
 },
 "nbformat": 4,
 "nbformat_minor": 5
}
